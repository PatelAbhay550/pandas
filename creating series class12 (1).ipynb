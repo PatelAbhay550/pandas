{
 "cells": [
  {
   "cell_type": "code",
   "execution_count": null,
   "id": "d89f354a",
   "metadata": {},
   "outputs": [],
   "source": [
    "#1.Creating an Empty Series\n",
    "import pandas as pd\n",
    "ser=pd.Series()\n",
    "print(ser)"
   ]
  },
  {
   "cell_type": "code",
   "execution_count": null,
   "id": "c0283077",
   "metadata": {},
   "outputs": [],
   "source": [
    "#2. Non Empty Series\n",
    "#a. Python sequence\n",
    "a=[1,4,6,8]\n",
    "b=['a','b','c','d']\n",
    "ser=pd.Series(a,b)\n",
    "print(ser)"
   ]
  },
  {
   "cell_type": "code",
   "execution_count": null,
   "id": "ff41d06a",
   "metadata": {},
   "outputs": [],
   "source": [
    "a=range(5)\n",
    "ser=pd.Series(a)\n",
    "print(ser)"
   ]
  },
  {
   "cell_type": "code",
   "execution_count": null,
   "id": "989363d8",
   "metadata": {},
   "outputs": [],
   "source": [
    "#3.NDARRAY\n",
    "#a.linspace\n",
    "import numpy as np\n",
    "ser=pd.Series(np.linspace(24,64,5))\n",
    "print(ser)"
   ]
  },
  {
   "cell_type": "code",
   "execution_count": null,
   "id": "b8437cef",
   "metadata": {},
   "outputs": [],
   "source": [
    "#b. arange\n",
    "a=np.arange(5)\n",
    "ser=pd.Series(a)\n",
    "print(ser)"
   ]
  },
  {
   "cell_type": "code",
   "execution_count": null,
   "id": "28a78d57",
   "metadata": {},
   "outputs": [],
   "source": [
    "#c.tile\n",
    "a=np.tile(['a','b'],5)\n",
    "ser=pd.Series(a)\n",
    "print(ser)"
   ]
  },
  {
   "cell_type": "code",
   "execution_count": null,
   "id": "82f40ee7",
   "metadata": {},
   "outputs": [],
   "source": [
    "#4.A Dictionary\n",
    "a={'a':1,'b':2,'c':3}\n",
    "ser=pd.Series(a)\n",
    "print(ser)"
   ]
  },
  {
   "cell_type": "code",
   "execution_count": null,
   "id": "cba5a95f",
   "metadata": {},
   "outputs": [],
   "source": [
    "#5. From Scalar Value\n",
    "a=101\n",
    "b=['a','b','c','bb']\n",
    "ser=pd.Series(a,b)\n",
    "print(ser)\n"
   ]
  }
 ],
 "metadata": {
  "kernelspec": {
   "display_name": "Python 3 (ipykernel)",
   "language": "python",
   "name": "python3"
  },
  "language_info": {
   "codemirror_mode": {
    "name": "ipython",
    "version": 3
   },
   "file_extension": ".py",
   "mimetype": "text/x-python",
   "name": "python",
   "nbconvert_exporter": "python",
   "pygments_lexer": "ipython3",
   "version": "3.9.7"
  },
  "widgets": {
   "application/vnd.jupyter.widget-state+json": {
    "state": {},
    "version_major": 2,
    "version_minor": 0
   }
  }
 },
 "nbformat": 4,
 "nbformat_minor": 5
}

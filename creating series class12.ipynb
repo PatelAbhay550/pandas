{
 "cells": [
  {
   "cell_type": "raw",
   "id": "14673733",
   "metadata": {},
   "source": [
    "#1.Creating an Empty Series\n",
    "import pandas as pd\n",
    "ser=pd.Series()\n",
    "print(ser)"
   ]
  },
  {
   "cell_type": "raw",
   "id": "443c10a3",
   "metadata": {},
   "source": [
    "#2. Non Empty Series\n",
    "#a. Python sequence\n",
    "a=[1,4,6,8]\n",
    "b=['a','b','c','d']\n",
    "ser=pd.Series(a,b)\n",
    "print(ser)"
   ]
  },
  {
   "cell_type": "raw",
   "id": "90aa9d9d",
   "metadata": {},
   "source": [
    "a=range(5)\n",
    "ser=pd.Series(a)\n",
    "print(ser)"
   ]
  },
  {
   "cell_type": "raw",
   "id": "1c81ab1a",
   "metadata": {},
   "source": [
    "#3.NDARRAY\n",
    "#a.linspace\n",
    "import numpy as np\n",
    "ser=pd.Series(np.linspace(24,64,5))\n",
    "print(ser)"
   ]
  },
  {
   "cell_type": "raw",
   "id": "50ce36fe",
   "metadata": {},
   "source": [
    "#b. arange\n",
    "a=np.arange(5)\n",
    "ser=pd.Series(a)\n",
    "print(ser)"
   ]
  },
  {
   "cell_type": "raw",
   "id": "643cd414",
   "metadata": {},
   "source": [
    "#c.tile\n",
    "a=np.tile(['a','b'],5)\n",
    "ser=pd.Series(a)\n",
    "print(ser)"
   ]
  },
  {
   "cell_type": "raw",
   "id": "b1f4a0aa",
   "metadata": {},
   "source": [
    "#4.A Dictionary\n",
    "a={'a':1,'b':2,'c':3}\n",
    "ser=pd.Series(a)\n",
    "print(ser)"
   ]
  },
  {
   "cell_type": "raw",
   "id": "92515dd1",
   "metadata": {},
   "source": [
    "#5. From Scalar Value\n",
    "a=101\n",
    "b=['a','b','c','bb']\n",
    "ser=pd.Series(a,b)\n",
    "print(ser)\n"
   ]
  }
 ],
 "metadata": {
  "kernelspec": {
   "display_name": "Python 3 (ipykernel)",
   "language": "python",
   "name": "python3"
  },
  "language_info": {
   "codemirror_mode": {
    "name": "ipython",
    "version": 3
   },
   "file_extension": ".py",
   "mimetype": "text/x-python",
   "name": "python",
   "nbconvert_exporter": "python",
   "pygments_lexer": "ipython3",
   "version": "3.9.7"
  },
  "widgets": {
   "application/vnd.jupyter.widget-state+json": {
    "state": {},
    "version_major": 2,
    "version_minor": 0
   }
  }
 },
 "nbformat": 4,
 "nbformat_minor": 5
}
